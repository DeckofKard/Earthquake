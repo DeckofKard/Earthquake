{
 "cells": [
  {
   "cell_type": "code",
   "execution_count": 26,
   "metadata": {},
   "outputs": [],
   "source": [
    "import pandas as pd\n",
    "people = pd.read_csv(\"csv_file\\\\시군구_인구수.csv\", encoding= 'cp949')\n",
    "\n",
    "people['행정구역'] = people['행정구역'].astype('str')\n",
    "population = people['행정구역'].str.split(' ')\n",
    "population = population.str.get(0) + ' '+ population.str.get(1)\n",
    "population = population.str.split(' ')\n",
    "\n",
    "pop = []\n",
    "sejong = 0\n",
    "for i in population:\n",
    "    if i[0] == '세종특별자치시' and sejong == 0:\n",
    "        pop.append(i[0])\n",
    "        sejong += 1\n",
    "        continue \n",
    "\n",
    "    if i[1] == '':\n",
    "        pop.append(' ')\n",
    "    else:\n",
    "        if i[1][-1] == '소':\n",
    "            pop.append(' ')\n",
    "        else:\n",
    "            pop.append(i[0] + ' ' + i[1])\n",
    "\n",
    "people['행정구역'] = pop\n",
    "people = people.drop(people[(people['행정구역'] == ' ')].index)\n",
    "people = people.drop(['2023년05월_세대수', '2023년05월_세대당 인구', '2023년05월_남자 인구수', '2023년05월_여자 인구수', '2023년05월_남여 비율'], axis= 'columns')\n",
    "people.to_csv(\"csv_file\\\\population.csv\")"
   ]
  }
 ],
 "metadata": {
  "kernelspec": {
   "display_name": "Python 3",
   "language": "python",
   "name": "python3"
  },
  "language_info": {
   "codemirror_mode": {
    "name": "ipython",
    "version": 3
   },
   "file_extension": ".py",
   "mimetype": "text/x-python",
   "name": "python",
   "nbconvert_exporter": "python",
   "pygments_lexer": "ipython3",
   "version": "3.11.3"
  },
  "orig_nbformat": 4
 },
 "nbformat": 4,
 "nbformat_minor": 2
}
